{
 "cells": [
  {
   "cell_type": "markdown",
   "metadata": {},
   "source": [
    "## Beautiful Soup"
   ]
  },
  {
   "cell_type": "code",
   "execution_count": 302,
   "metadata": {},
   "outputs": [],
   "source": [
    "import requests\n",
    "from bs4 import BeautifulSoup"
   ]
  },
  {
   "cell_type": "code",
   "execution_count": 303,
   "metadata": {},
   "outputs": [],
   "source": [
    "r=requests.get('https://webscraper.io/test-sites/tables')\n",
    "html=r.text\n",
    "data=BeautifulSoup(html,'html.parser')"
   ]
  },
  {
   "cell_type": "code",
   "execution_count": 304,
   "metadata": {},
   "outputs": [],
   "source": [
    "#print(data.prettify())"
   ]
  },
  {
   "cell_type": "code",
   "execution_count": 305,
   "metadata": {},
   "outputs": [
    {
     "data": {
      "text/plain": [
       "bs4.BeautifulSoup"
      ]
     },
     "execution_count": 305,
     "metadata": {},
     "output_type": "execute_result"
    }
   ],
   "source": [
    "type(data)"
   ]
  },
  {
   "cell_type": "code",
   "execution_count": 306,
   "metadata": {},
   "outputs": [
    {
     "data": {
      "text/plain": [
       "<title>Web Scraper Test Sites</title>"
      ]
     },
     "execution_count": 306,
     "metadata": {},
     "output_type": "execute_result"
    }
   ],
   "source": [
    "data.title"
   ]
  },
  {
   "cell_type": "code",
   "execution_count": 307,
   "metadata": {},
   "outputs": [
    {
     "data": {
      "text/plain": [
       "<p>Web Scraper</p>"
      ]
     },
     "execution_count": 307,
     "metadata": {},
     "output_type": "execute_result"
    }
   ],
   "source": [
    "data.p"
   ]
  },
  {
   "cell_type": "code",
   "execution_count": 308,
   "metadata": {},
   "outputs": [
    {
     "data": {
      "text/plain": [
       "{}"
      ]
     },
     "execution_count": 308,
     "metadata": {},
     "output_type": "execute_result"
    }
   ],
   "source": [
    "data.title.attrs"
   ]
  },
  {
   "cell_type": "code",
   "execution_count": 309,
   "metadata": {},
   "outputs": [
    {
     "data": {
      "text/plain": [
       "{'data-toggle': 'collapse-side',\n",
       " 'data-target': '.side-collapse',\n",
       " 'data-target-2': '.side-collapse-container'}"
      ]
     },
     "execution_count": 309,
     "metadata": {},
     "output_type": "execute_result"
    }
   ],
   "source": [
    "data.a.attrs"
   ]
  },
  {
   "cell_type": "code",
   "execution_count": 310,
   "metadata": {},
   "outputs": [
    {
     "data": {
      "text/plain": [
       "'Web Scraper Test Sites'"
      ]
     },
     "execution_count": 310,
     "metadata": {},
     "output_type": "execute_result"
    }
   ],
   "source": [
    "data.title.string"
   ]
  },
  {
   "cell_type": "code",
   "execution_count": 311,
   "metadata": {},
   "outputs": [
    {
     "data": {
      "text/plain": [
       "'\\n\\n\\n\\n\\n\\n\\n\\n\\nWeb Scraper Test Sites\\n\\n\\n\\n\\n\\n\\n\\n\\n\\n\\n\\n\\n\\n\\n\\n\\n\\n\\n\\n\\n\\n\\nToggle navigation\\n\\n\\n\\n\\n\\n\\n\\n\\n\\n\\n\\n\\n\\n\\n\\n\\n\\nWeb Scraper\\n\\n\\n\\n\\n\\nCloud Scraper\\n\\n\\n\\n\\n\\nPricing\\n\\n\\n\\n\\n\\nLearn\\n\\n\\n\\n\\nDocumentation\\n\\n\\nVideo Tutorials\\n\\n\\nHow to\\n\\n\\nTest Sites\\n\\n\\nForum\\n\\n\\n\\n\\nInstall\\n\\n\\nLogin\\n\\n\\n\\n\\n\\n\\n\\n\\n\\n\\n\\n\\n\\nTable playground\\n\\n\\n\\n\\n\\n\\n\\t\\t\\tYou can train using Table selector here.\\n\\t\\t\\n\\nSemantically correct table with thead and tbody\\n\\n\\t\\t\\tTable selector automatically detects header and data rows.\\n\\t\\t\\n\\n\\n\\n#\\nFirst Name\\nLast Name\\nUsername\\n\\n\\n\\n\\n1\\nMark\\nOtto\\n@mdo\\n\\n\\n2\\nJacob\\nThornton\\n@fat\\n\\n\\n3\\nLarry\\nthe Bird\\n@twitter\\n\\n\\n\\n\\n\\n\\n#\\nFirst Name\\nLast Name\\nUsername\\n\\n\\n\\n\\n4\\nHarry\\nPotter\\n@hp\\n\\n\\n5\\nJohn\\nSnow\\n@dunno\\n\\n\\n6\\nTim\\nBean\\n@timbean\\n\\n\\n\\n\\nTable without thead tag\\n\\n\\t\\t\\tTable selector automatically detects header and data rows.\\n\\t\\t\\n\\n\\n\\n#\\nFirst Name\\nLast Name\\nUsername\\n\\n\\n1\\nMark\\nOtto\\n@mdo\\n\\n\\n2\\nJacob\\nThornton\\n@fat\\n\\n\\n3\\nLarry\\nthe Bird\\n@twitter\\n\\n\\n\\nTable with multiple header rows and an empty data row\\n\\n\\t\\t\\tYou must manually select header and data rows.\\n\\t\\t\\n\\n\\n\\n\\nPerson\\nUser data\\n\\n\\n#\\nFirst Name\\nLast Name\\nUsername\\n\\n\\n-\\n-\\n-\\n-\\n\\n\\n1\\nMark\\nOtto\\n@mdo\\n\\n\\n2\\nJacob\\nThornton\\n@fat\\n\\n\\n3\\nLarry\\nthe Bird\\n@twitter\\n\\n\\n\\n\\n\\n\\n\\n\\n\\n\\n\\n\\nProducts\\n\\nWeb Scraper browser extension\\n\\n\\nWeb Scraper Cloud\\n\\n\\n\\n\\n\\nCompany\\nContact\\n\\n\\nWebsite Privacy Policy\\n\\n\\nBrowser Extension Privacy Policy\\n\\n\\nMedia kit\\n\\nJobs\\n\\n\\n\\n\\nResources\\nBlog\\n\\nDocumentation\\n\\n\\nVideo Tutorials\\n\\n\\nScreenshots\\n\\n\\nTest Sites\\n\\n\\nForum\\n\\n\\n\\n\\n\\nCONTACT US\\n\\ninfo@webscraper.io\\n\\nRupniecibas iela 30, Riga, Latvia, LV-1045\\n\\n\\n\\n\\n\\n\\n\\n\\n\\n\\n\\n\\n\\nCopyright © 2022\\n\\t\\t\\t\\t\\tWeb Scraper | All rights\\n\\t\\t\\t\\t\\treserved | Made by zoom59\\n\\n\\n\\n\\n\\n\\n'"
      ]
     },
     "execution_count": 311,
     "metadata": {},
     "output_type": "execute_result"
    }
   ],
   "source": [
    "# returns the text written by user in data except tags\n",
    "data.get_text() "
   ]
  },
  {
   "cell_type": "code",
   "execution_count": 312,
   "metadata": {},
   "outputs": [
    {
     "data": {
      "text/plain": [
       "<a data-target=\".side-collapse\" data-target-2=\".side-collapse-container\" data-toggle=\"collapse-side\">\n",
       "<button aria-controls=\"navbar\" aria-expanded=\"false\" class=\"navbar-toggle pull-right collapsed\" data-target=\"#navbar\" data-target-2=\".side-collapse-container\" data-target-3=\".side-collapse\" data-toggle=\"collapse\" type=\"button\">\n",
       "<span class=\"sr-only\">Toggle navigation</span>\n",
       "<span class=\"icon-bar top-bar\"></span>\n",
       "<span class=\"icon-bar middle-bar\"></span>\n",
       "<span class=\"icon-bar bottom-bar\"></span>\n",
       "</button>\n",
       "</a>"
      ]
     },
     "execution_count": 312,
     "metadata": {},
     "output_type": "execute_result"
    }
   ],
   "source": [
    "data.find('a')"
   ]
  },
  {
   "cell_type": "code",
   "execution_count": 313,
   "metadata": {},
   "outputs": [
    {
     "data": {
      "text/plain": [
       "[<p>Web Scraper</p>,\n",
       " <p>Cloud Scraper</p>,\n",
       " <p>Pricing</p>,\n",
       " <p>Learn</p>,\n",
       " <p>\n",
       " \t\t\tYou can train using Table selector here.\n",
       " \t\t</p>,\n",
       " <p>\n",
       " \t\t\tTable selector automatically detects header and data rows.\n",
       " \t\t</p>,\n",
       " <p>\n",
       " \t\t\tTable selector automatically detects header and data rows.\n",
       " \t\t</p>,\n",
       " <p>\n",
       " \t\t\tYou must manually select header and data rows.\n",
       " \t\t</p>,\n",
       " <p>Products</p>,\n",
       " <p>Company</p>,\n",
       " <p>Resources</p>,\n",
       " <p>CONTACT US</p>,\n",
       " <p class=\"copyright\">Copyright © 2022\n",
       " \t\t\t\t\t<a href=\"#\">Web Scraper</a> | All rights\n",
       " \t\t\t\t\treserved | Made by zoom59</p>]"
      ]
     },
     "execution_count": 313,
     "metadata": {},
     "output_type": "execute_result"
    }
   ],
   "source": [
    "data.find_all('p')"
   ]
  },
  {
   "cell_type": "code",
   "execution_count": 314,
   "metadata": {},
   "outputs": [],
   "source": [
    "from bs4 import BeautifulSoup\n",
    "\n",
    "html = '<!DOCTYPE html><html><head><title>Navigate Parse Tree</title></head>\\\n",
    "<body><h1>This is your Assignment</h1><a href = \"https://www.google.com\">This is a link that will take you to Google</a>\\\n",
    "<ul><li><p> This question is given to test your knowledge of <b>Web Scraping</b></p>\\\n",
    "<p>Web scraping is a term used to describe the use of a program or algorithm to extract and process large amounts of data from the web.</p></li>\\\n",
    "<li id = \"li2\">This is an li tag given to you for scraping</li>\\\n",
    "<li>This li tag gives you the various ways to get data from a website\\\n",
    "<ol><li class = \"list_or\">Using API of the website</li><li>Scrape data using BeautifulSoup</li><li>Scrape data using Selenium</li>\\\n",
    "<li>Scrape data using Scrapy</li></ol></li>\\\n",
    "<li class = \"list_or\"><a href=\"https://www.crummy.com/software/BeautifulSoup/bs4/doc/\">\\\n",
    "Clicking on this takes you to the documentation of BeautifulSoup</a>\\\n",
    "<a href=\"https://selenium-python.readthedocs.io/\" id=\"anchor\">Clicking on this takes you to the documentation of Selenium</a>\\\n",
    "</li></ul></body></html>'\n",
    "\n",
    "data=BeautifulSoup(html,'html.parser')"
   ]
  },
  {
   "cell_type": "code",
   "execution_count": 315,
   "metadata": {
    "scrolled": true
   },
   "outputs": [],
   "source": [
    "data=BeautifulSoup(html,'html.parser')\n",
    "#print(data.prettify())"
   ]
  },
  {
   "cell_type": "code",
   "execution_count": 316,
   "metadata": {},
   "outputs": [
    {
     "data": {
      "text/plain": [
       "[<a href=\"https://www.google.com\">This is a link that will take you to Google</a>,\n",
       " <p> This question is given to test your knowledge of <b>Web Scraping</b></p>,\n",
       " <p>Web scraping is a term used to describe the use of a program or algorithm to extract and process large amounts of data from the web.</p>,\n",
       " <a href=\"https://www.crummy.com/software/BeautifulSoup/bs4/doc/\">Clicking on this takes you to the documentation of BeautifulSoup</a>,\n",
       " <a href=\"https://selenium-python.readthedocs.io/\" id=\"anchor\">Clicking on this takes you to the documentation of Selenium</a>]"
      ]
     },
     "execution_count": 316,
     "metadata": {},
     "output_type": "execute_result"
    }
   ],
   "source": [
    "data.find_all(['p','a'])"
   ]
  },
  {
   "cell_type": "code",
   "execution_count": 317,
   "metadata": {},
   "outputs": [],
   "source": [
    "# for finding data on the basis of CSS selector\n",
    "# data.search('str_')"
   ]
  },
  {
   "cell_type": "code",
   "execution_count": 318,
   "metadata": {},
   "outputs": [
    {
     "data": {
      "text/plain": [
       "'Navigate Parse Tree'"
      ]
     },
     "execution_count": 318,
     "metadata": {},
     "output_type": "execute_result"
    }
   ],
   "source": [
    "data.head.title.string"
   ]
  },
  {
   "cell_type": "code",
   "execution_count": 319,
   "metadata": {},
   "outputs": [
    {
     "data": {
      "text/plain": [
       "[<h1>This is your Assignment</h1>,\n",
       " <a href=\"https://www.google.com\">This is a link that will take you to Google</a>,\n",
       " <ul><li><p> This question is given to test your knowledge of <b>Web Scraping</b></p><p>Web scraping is a term used to describe the use of a program or algorithm to extract and process large amounts of data from the web.</p></li><li id=\"li2\">This is an li tag given to you for scraping</li><li>This li tag gives you the various ways to get data from a website<ol><li class=\"list_or\">Using API of the website</li><li>Scrape data using BeautifulSoup</li><li>Scrape data using Selenium</li><li>Scrape data using Scrapy</li></ol></li><li class=\"list_or\"><a href=\"https://www.crummy.com/software/BeautifulSoup/bs4/doc/\">Clicking on this takes you to the documentation of BeautifulSoup</a><a href=\"https://selenium-python.readthedocs.io/\" id=\"anchor\">Clicking on this takes you to the documentation of Selenium</a></li></ul>]"
      ]
     },
     "execution_count": 319,
     "metadata": {},
     "output_type": "execute_result"
    }
   ],
   "source": [
    "data.body.contents"
   ]
  },
  {
   "cell_type": "code",
   "execution_count": 320,
   "metadata": {},
   "outputs": [
    {
     "data": {
      "text/plain": [
       "[<h1>This is your Assignment</h1>,\n",
       " <a href=\"https://www.google.com\">This is a link that will take you to Google</a>,\n",
       " <ul><li><p> This question is given to test your knowledge of <b>Web Scraping</b></p><p>Web scraping is a term used to describe the use of a program or algorithm to extract and process large amounts of data from the web.</p></li><li id=\"li2\">This is an li tag given to you for scraping</li><li>This li tag gives you the various ways to get data from a website<ol><li class=\"list_or\">Using API of the website</li><li>Scrape data using BeautifulSoup</li><li>Scrape data using Selenium</li><li>Scrape data using Scrapy</li></ol></li><li class=\"list_or\"><a href=\"https://www.crummy.com/software/BeautifulSoup/bs4/doc/\">Clicking on this takes you to the documentation of BeautifulSoup</a><a href=\"https://selenium-python.readthedocs.io/\" id=\"anchor\">Clicking on this takes you to the documentation of Selenium</a></li></ul>]"
      ]
     },
     "execution_count": 320,
     "metadata": {},
     "output_type": "execute_result"
    }
   ],
   "source": [
    "list(data.body.children)"
   ]
  },
  {
   "cell_type": "code",
   "execution_count": 321,
   "metadata": {
    "scrolled": true
   },
   "outputs": [
    {
     "name": "stdout",
     "output_type": "stream",
     "text": [
      "36\n"
     ]
    }
   ],
   "source": [
    "desc = list(data.descendants)\n",
    "print(len(desc))"
   ]
  },
  {
   "cell_type": "code",
   "execution_count": 322,
   "metadata": {},
   "outputs": [
    {
     "data": {
      "text/plain": [
       "<li><p> This question is given to test your knowledge of <b>Web Scraping</b></p><p>Web scraping is a term used to describe the use of a program or algorithm to extract and process large amounts of data from the web.</p></li>"
      ]
     },
     "execution_count": 322,
     "metadata": {},
     "output_type": "execute_result"
    }
   ],
   "source": [
    "data.p.parent"
   ]
  },
  {
   "cell_type": "code",
   "execution_count": 323,
   "metadata": {},
   "outputs": [
    {
     "data": {
      "text/plain": [
       "' This question is given to test your knowledge of '"
      ]
     },
     "execution_count": 323,
     "metadata": {},
     "output_type": "execute_result"
    }
   ],
   "source": [
    "data.p.next_element"
   ]
  },
  {
   "cell_type": "code",
   "execution_count": 324,
   "metadata": {
    "scrolled": true
   },
   "outputs": [
    {
     "data": {
      "text/plain": [
       "[' This question is given to test your knowledge of ',\n",
       " <b>Web Scraping</b>,\n",
       " 'Web Scraping',\n",
       " <p>Web scraping is a term used to describe the use of a program or algorithm to extract and process large amounts of data from the web.</p>,\n",
       " 'Web scraping is a term used to describe the use of a program or algorithm to extract and process large amounts of data from the web.',\n",
       " <li id=\"li2\">This is an li tag given to you for scraping</li>,\n",
       " 'This is an li tag given to you for scraping',\n",
       " <li>This li tag gives you the various ways to get data from a website<ol><li class=\"list_or\">Using API of the website</li><li>Scrape data using BeautifulSoup</li><li>Scrape data using Selenium</li><li>Scrape data using Scrapy</li></ol></li>,\n",
       " 'This li tag gives you the various ways to get data from a website',\n",
       " <ol><li class=\"list_or\">Using API of the website</li><li>Scrape data using BeautifulSoup</li><li>Scrape data using Selenium</li><li>Scrape data using Scrapy</li></ol>,\n",
       " <li class=\"list_or\">Using API of the website</li>,\n",
       " 'Using API of the website',\n",
       " <li>Scrape data using BeautifulSoup</li>,\n",
       " 'Scrape data using BeautifulSoup',\n",
       " <li>Scrape data using Selenium</li>,\n",
       " 'Scrape data using Selenium',\n",
       " <li>Scrape data using Scrapy</li>,\n",
       " 'Scrape data using Scrapy',\n",
       " <li class=\"list_or\"><a href=\"https://www.crummy.com/software/BeautifulSoup/bs4/doc/\">Clicking on this takes you to the documentation of BeautifulSoup</a><a href=\"https://selenium-python.readthedocs.io/\" id=\"anchor\">Clicking on this takes you to the documentation of Selenium</a></li>,\n",
       " <a href=\"https://www.crummy.com/software/BeautifulSoup/bs4/doc/\">Clicking on this takes you to the documentation of BeautifulSoup</a>,\n",
       " 'Clicking on this takes you to the documentation of BeautifulSoup',\n",
       " <a href=\"https://selenium-python.readthedocs.io/\" id=\"anchor\">Clicking on this takes you to the documentation of Selenium</a>,\n",
       " 'Clicking on this takes you to the documentation of Selenium']"
      ]
     },
     "execution_count": 324,
     "metadata": {},
     "output_type": "execute_result"
    }
   ],
   "source": [
    "list(data.p.next_elements)"
   ]
  },
  {
   "cell_type": "code",
   "execution_count": 325,
   "metadata": {},
   "outputs": [
    {
     "data": {
      "text/plain": [
       "[<p>Web scraping is a term used to describe the use of a program or algorithm to extract and process large amounts of data from the web.</p>]"
      ]
     },
     "execution_count": 325,
     "metadata": {},
     "output_type": "execute_result"
    }
   ],
   "source": [
    "list(data.p.next_siblings)"
   ]
  },
  {
   "cell_type": "code",
   "execution_count": 326,
   "metadata": {
    "scrolled": true
   },
   "outputs": [],
   "source": [
    "#data.find_all(True)"
   ]
  },
  {
   "cell_type": "markdown",
   "metadata": {},
   "source": [
    "### First Scraping Site"
   ]
  },
  {
   "cell_type": "code",
   "execution_count": 327,
   "metadata": {},
   "outputs": [],
   "source": [
    "import requests\n",
    "from bs4 import BeautifulSoup"
   ]
  },
  {
   "cell_type": "code",
   "execution_count": 328,
   "metadata": {},
   "outputs": [],
   "source": [
    "r=requests.get('http://info.cern.ch/hypertext/WWW/TheProject.html')"
   ]
  },
  {
   "cell_type": "code",
   "execution_count": 329,
   "metadata": {},
   "outputs": [
    {
     "data": {
      "text/plain": [
       "{'Date': 'Wed, 04 May 2022 18:19:08 GMT', 'Server': 'Apache', 'Last-Modified': 'Thu, 03 Dec 1992 08:37:20 GMT', 'ETag': '\"8a9-291e721905000\"', 'Accept-Ranges': 'bytes', 'Content-Length': '2217', 'Connection': 'close', 'Content-Type': 'text/html'}"
      ]
     },
     "execution_count": 329,
     "metadata": {},
     "output_type": "execute_result"
    }
   ],
   "source": [
    "r.headers"
   ]
  },
  {
   "cell_type": "code",
   "execution_count": 330,
   "metadata": {},
   "outputs": [],
   "source": [
    "html_data=r.text"
   ]
  },
  {
   "cell_type": "code",
   "execution_count": 331,
   "metadata": {},
   "outputs": [],
   "source": [
    "data=BeautifulSoup(html_data,'html.parser')\n",
    "#data"
   ]
  },
  {
   "cell_type": "code",
   "execution_count": 332,
   "metadata": {},
   "outputs": [],
   "source": [
    "#print(data.prettify())"
   ]
  },
  {
   "cell_type": "code",
   "execution_count": 333,
   "metadata": {},
   "outputs": [
    {
     "data": {
      "text/plain": [
       "'World Wide Web'"
      ]
     },
     "execution_count": 333,
     "metadata": {},
     "output_type": "execute_result"
    }
   ],
   "source": [
    "data.h1.string"
   ]
  },
  {
   "cell_type": "code",
   "execution_count": 334,
   "metadata": {},
   "outputs": [
    {
     "name": "stdout",
     "output_type": "stream",
     "text": [
      "\n",
      "The World Wide Web project\n",
      "\n",
      "\n",
      "\n",
      "World Wide WebThe WorldWideWeb (W3) is a wide-area\n",
      "hypermedia information retrieval\n",
      "initiative aiming to give universal\n",
      "access to a large universe of documents.\n",
      "Everything there is online about\n",
      "W3 is linked directly or indirectly\n",
      "to this document, including an executive\n",
      "summary of the project, Mailing lists\n",
      ", Policy , November's  W3  news ,\n",
      "Frequently Asked Questions .\n",
      "\n",
      "What's out there?\n",
      " Pointers to the\n",
      "world's online information, subjects\n",
      ", W3 servers, etc.\n",
      "Help\n",
      " on the browser you are using\n",
      "Software Products\n",
      " A list of W3 project\n",
      "components and their current state.\n",
      "(e.g. Line Mode ,X11 Viola ,  NeXTStep\n",
      ", Servers , Tools , Mail robot ,\n",
      "Library )\n",
      "Technical\n",
      " Details of protocols, formats,\n",
      "program internals etc\n",
      "Bibliography\n",
      " Paper documentation\n",
      "on  W3 and references.\n",
      "People\n",
      " A list of some people involved\n",
      "in the project.\n",
      "History\n",
      " A summary of the history\n",
      "of the project.\n",
      "How can I help ?\n",
      " If you would like\n",
      "to support the web..\n",
      "Getting code\n",
      " Getting the code by\n",
      "anonymous FTP , etc.\n",
      "\n",
      "\n",
      "\n"
     ]
    }
   ],
   "source": [
    "print(data.get_text())"
   ]
  },
  {
   "cell_type": "code",
   "execution_count": 335,
   "metadata": {},
   "outputs": [
    {
     "data": {
      "text/plain": [
       "'WhatIs.html'"
      ]
     },
     "execution_count": 335,
     "metadata": {},
     "output_type": "execute_result"
    }
   ],
   "source": [
    "data.a['href']"
   ]
  },
  {
   "cell_type": "code",
   "execution_count": 336,
   "metadata": {},
   "outputs": [
    {
     "name": "stdout",
     "output_type": "stream",
     "text": [
      "\n",
      "hypermedia\n",
      "executive\n",
      "summary\n",
      "Mailing lists\n",
      "Policy\n",
      "W3  news\n",
      "Frequently Asked Questions\n",
      "What's out there?\n",
      " subjects\n",
      "W3 servers\n",
      "Help\n",
      "Software Products\n",
      "Line Mode\n",
      "Viola\n",
      "NeXTStep\n",
      "Servers\n",
      "Tools\n",
      " Mail robot\n",
      "\n",
      "Library\n",
      "Technical\n",
      "Bibliography\n",
      "People\n",
      "History\n",
      "How can I help\n",
      "Getting code\n",
      "\n",
      "anonymous FTP\n"
     ]
    }
   ],
   "source": [
    "for i in data.find_all('a'):\n",
    "    print(i.string)"
   ]
  },
  {
   "cell_type": "code",
   "execution_count": 337,
   "metadata": {},
   "outputs": [
    {
     "name": "stdout",
     "output_type": "stream",
     "text": [
      "What's out there?\n",
      "Help\n",
      "Software Products\n",
      "Technical\n",
      "Bibliography\n",
      "People\n",
      "History\n",
      "How can I help\n",
      "Getting code\n"
     ]
    }
   ],
   "source": [
    "for i in data.find_all('dt'):\n",
    "    print(i.a.string)"
   ]
  },
  {
   "cell_type": "markdown",
   "metadata": {},
   "source": [
    "### Scraping a Book Site."
   ]
  },
  {
   "cell_type": "code",
   "execution_count": 338,
   "metadata": {},
   "outputs": [
    {
     "data": {
      "text/plain": [
       "{'Server': 'nginx/1.17.7', 'Date': 'Wed, 04 May 2022 18:19:09 GMT', 'Content-Type': 'text/html', 'Transfer-Encoding': 'chunked', 'Connection': 'keep-alive', 'Vary': 'Accept-Encoding', 'Last-Modified': 'Thu, 25 Mar 2021 13:59:05 GMT', 'Content-Encoding': 'gzip'}"
      ]
     },
     "execution_count": 338,
     "metadata": {},
     "output_type": "execute_result"
    }
   ],
   "source": [
    "r=requests.get('http://books.toscrape.com/')\n",
    "data_html=r.text\n",
    "r.headers"
   ]
  },
  {
   "cell_type": "code",
   "execution_count": 339,
   "metadata": {
    "scrolled": true
   },
   "outputs": [],
   "source": [
    "data=BeautifulSoup(data_html,'html.parser')\n",
    "#print(data.prettify())"
   ]
  },
  {
   "cell_type": "code",
   "execution_count": 340,
   "metadata": {},
   "outputs": [
    {
     "data": {
      "text/plain": [
       "'\\n    All products | Books to Scrape - Sandbox\\n'"
      ]
     },
     "execution_count": 340,
     "metadata": {},
     "output_type": "execute_result"
    }
   ],
   "source": [
    "data.title.string"
   ]
  },
  {
   "cell_type": "code",
   "execution_count": 341,
   "metadata": {},
   "outputs": [],
   "source": [
    "books=data.find_all(class_='product_pod')\n",
    "#books"
   ]
  },
  {
   "cell_type": "code",
   "execution_count": 342,
   "metadata": {},
   "outputs": [
    {
     "name": "stdout",
     "output_type": "stream",
     "text": [
      "A Light in the Attic : £51.77 http://books.toscrape.com/catalogue/a-light-in-the-attic_1000/index.html\n",
      "----\n",
      "Tipping the Velvet : £53.74 http://books.toscrape.com/catalogue/tipping-the-velvet_999/index.html\n",
      "----\n",
      "Soumission : £50.10 http://books.toscrape.com/catalogue/soumission_998/index.html\n",
      "----\n",
      "Sharp Objects : £47.82 http://books.toscrape.com/catalogue/sharp-objects_997/index.html\n",
      "----\n",
      "Sapiens: A Brief History of Humankind : £54.23 http://books.toscrape.com/catalogue/sapiens-a-brief-history-of-humankind_996/index.html\n",
      "----\n",
      "The Requiem Red : £22.65 http://books.toscrape.com/catalogue/the-requiem-red_995/index.html\n",
      "----\n",
      "The Dirty Little Secrets of Getting Your Dream Job : £33.34 http://books.toscrape.com/catalogue/the-dirty-little-secrets-of-getting-your-dream-job_994/index.html\n",
      "----\n",
      "The Coming Woman: A Novel Based on the Life of the Infamous Feminist, Victoria Woodhull : £17.93 http://books.toscrape.com/catalogue/the-coming-woman-a-novel-based-on-the-life-of-the-infamous-feminist-victoria-woodhull_993/index.html\n",
      "----\n",
      "The Boys in the Boat: Nine Americans and Their Epic Quest for Gold at the 1936 Berlin Olympics : £22.60 http://books.toscrape.com/catalogue/the-boys-in-the-boat-nine-americans-and-their-epic-quest-for-gold-at-the-1936-berlin-olympics_992/index.html\n",
      "----\n",
      "The Black Maria : £52.15 http://books.toscrape.com/catalogue/the-black-maria_991/index.html\n",
      "----\n",
      "Starving Hearts (Triangular Trade Trilogy, #1) : £13.99 http://books.toscrape.com/catalogue/starving-hearts-triangular-trade-trilogy-1_990/index.html\n",
      "----\n",
      "Shakespeare's Sonnets : £20.66 http://books.toscrape.com/catalogue/shakespeares-sonnets_989/index.html\n",
      "----\n",
      "Set Me Free : £17.46 http://books.toscrape.com/catalogue/set-me-free_988/index.html\n",
      "----\n",
      "Scott Pilgrim's Precious Little Life (Scott Pilgrim #1) : £52.29 http://books.toscrape.com/catalogue/scott-pilgrims-precious-little-life-scott-pilgrim-1_987/index.html\n",
      "----\n",
      "Rip it Up and Start Again : £35.02 http://books.toscrape.com/catalogue/rip-it-up-and-start-again_986/index.html\n",
      "----\n",
      "Our Band Could Be Your Life: Scenes from the American Indie Underground, 1981-1991 : £57.25 http://books.toscrape.com/catalogue/our-band-could-be-your-life-scenes-from-the-american-indie-underground-1981-1991_985/index.html\n",
      "----\n",
      "Olio : £23.88 http://books.toscrape.com/catalogue/olio_984/index.html\n",
      "----\n",
      "Mesaerion: The Best Science Fiction Stories 1800-1849 : £37.59 http://books.toscrape.com/catalogue/mesaerion-the-best-science-fiction-stories-1800-1849_983/index.html\n",
      "----\n",
      "Libertarianism for Beginners : £51.33 http://books.toscrape.com/catalogue/libertarianism-for-beginners_982/index.html\n",
      "----\n",
      "It's Only the Himalayas : £45.17 http://books.toscrape.com/catalogue/its-only-the-himalayas_981/index.html\n",
      "----\n"
     ]
    }
   ],
   "source": [
    "for i in books:\n",
    "    print(i.h3.a['title'], ':', i.find(class_='price_color').string[1:], 'http://books.toscrape.com/'+i.h3.a['href'])\n",
    "    print('----')"
   ]
  },
  {
   "cell_type": "code",
   "execution_count": 343,
   "metadata": {},
   "outputs": [
    {
     "name": "stdout",
     "output_type": "stream",
     "text": [
      "Travel\n",
      "Mystery\n",
      "Historical Fiction\n",
      "Sequential Art\n",
      "Classics\n",
      "Philosophy\n",
      "Romance\n",
      "Womens Fiction\n",
      "Fiction\n",
      "Childrens\n",
      "Religion\n",
      "Nonfiction\n",
      "Music\n",
      "Default\n",
      "Science Fiction\n",
      "Sports and Games\n",
      "Add a comment\n",
      "Fantasy\n",
      "New Adult\n",
      "Young Adult\n",
      "Science\n",
      "Poetry\n",
      "Paranormal\n",
      "Art\n",
      "Psychology\n",
      "Autobiography\n",
      "Parenting\n",
      "Adult Fiction\n",
      "Humor\n",
      "Horror\n",
      "History\n",
      "Food and Drink\n",
      "Christian Fiction\n",
      "Business\n",
      "Biography\n",
      "Thriller\n",
      "Contemporary\n",
      "Spirituality\n",
      "Academic\n",
      "Self Help\n",
      "Historical\n",
      "Christian\n",
      "Suspense\n",
      "Short Stories\n",
      "Novels\n",
      "Health\n",
      "Politics\n",
      "Cultural\n",
      "Erotica\n",
      "Crime\n"
     ]
    }
   ],
   "source": [
    "d=data.find(class_='nav nav-list')\n",
    "categories=d.find_all('li')\n",
    "\n",
    "for i in categories[1:]:\n",
    "    for j in i.stripped_strings:\n",
    "        print(j)"
   ]
  },
  {
   "cell_type": "code",
   "execution_count": 344,
   "metadata": {},
   "outputs": [],
   "source": [
    "all_urls=['http://books.toscrape.com/catalogue/category/books_1/page-1.html']\n",
    "current_page='http://books.toscrape.com/catalogue/category/books_1/page-1.html'\n",
    "\n",
    "base_url='http://books.toscrape.com/catalogue/category/books_1/'\n",
    "response=requests.get(base_url)\n",
    "\n",
    "while response.status_code==200:\n",
    "    data=BeautifulSoup(response.text,'html.parser')\n",
    "    next_page=data.find(class_='next')\n",
    "    if next_page==None:\n",
    "        break\n",
    "    next_page_url=base_url+next_page.a['href']\n",
    "    all_urls.append(next_page_url)\n",
    "    \n",
    "    response=requests.get(next_page_url)"
   ]
  },
  {
   "cell_type": "code",
   "execution_count": 345,
   "metadata": {},
   "outputs": [
    {
     "data": {
      "text/plain": [
       "['http://books.toscrape.com/catalogue/category/books_1/page-1.html',\n",
       " 'http://books.toscrape.com/catalogue/category/books_1/page-2.html',\n",
       " 'http://books.toscrape.com/catalogue/category/books_1/page-3.html',\n",
       " 'http://books.toscrape.com/catalogue/category/books_1/page-4.html',\n",
       " 'http://books.toscrape.com/catalogue/category/books_1/page-5.html',\n",
       " 'http://books.toscrape.com/catalogue/category/books_1/page-6.html',\n",
       " 'http://books.toscrape.com/catalogue/category/books_1/page-7.html',\n",
       " 'http://books.toscrape.com/catalogue/category/books_1/page-8.html',\n",
       " 'http://books.toscrape.com/catalogue/category/books_1/page-9.html',\n",
       " 'http://books.toscrape.com/catalogue/category/books_1/page-10.html',\n",
       " 'http://books.toscrape.com/catalogue/category/books_1/page-11.html',\n",
       " 'http://books.toscrape.com/catalogue/category/books_1/page-12.html',\n",
       " 'http://books.toscrape.com/catalogue/category/books_1/page-13.html',\n",
       " 'http://books.toscrape.com/catalogue/category/books_1/page-14.html',\n",
       " 'http://books.toscrape.com/catalogue/category/books_1/page-15.html',\n",
       " 'http://books.toscrape.com/catalogue/category/books_1/page-16.html',\n",
       " 'http://books.toscrape.com/catalogue/category/books_1/page-17.html',\n",
       " 'http://books.toscrape.com/catalogue/category/books_1/page-18.html',\n",
       " 'http://books.toscrape.com/catalogue/category/books_1/page-19.html',\n",
       " 'http://books.toscrape.com/catalogue/category/books_1/page-20.html',\n",
       " 'http://books.toscrape.com/catalogue/category/books_1/page-21.html',\n",
       " 'http://books.toscrape.com/catalogue/category/books_1/page-22.html',\n",
       " 'http://books.toscrape.com/catalogue/category/books_1/page-23.html',\n",
       " 'http://books.toscrape.com/catalogue/category/books_1/page-24.html',\n",
       " 'http://books.toscrape.com/catalogue/category/books_1/page-25.html',\n",
       " 'http://books.toscrape.com/catalogue/category/books_1/page-26.html',\n",
       " 'http://books.toscrape.com/catalogue/category/books_1/page-27.html',\n",
       " 'http://books.toscrape.com/catalogue/category/books_1/page-28.html',\n",
       " 'http://books.toscrape.com/catalogue/category/books_1/page-29.html',\n",
       " 'http://books.toscrape.com/catalogue/category/books_1/page-30.html',\n",
       " 'http://books.toscrape.com/catalogue/category/books_1/page-31.html',\n",
       " 'http://books.toscrape.com/catalogue/category/books_1/page-32.html',\n",
       " 'http://books.toscrape.com/catalogue/category/books_1/page-33.html',\n",
       " 'http://books.toscrape.com/catalogue/category/books_1/page-34.html',\n",
       " 'http://books.toscrape.com/catalogue/category/books_1/page-35.html',\n",
       " 'http://books.toscrape.com/catalogue/category/books_1/page-36.html',\n",
       " 'http://books.toscrape.com/catalogue/category/books_1/page-37.html',\n",
       " 'http://books.toscrape.com/catalogue/category/books_1/page-38.html',\n",
       " 'http://books.toscrape.com/catalogue/category/books_1/page-39.html',\n",
       " 'http://books.toscrape.com/catalogue/category/books_1/page-40.html',\n",
       " 'http://books.toscrape.com/catalogue/category/books_1/page-41.html',\n",
       " 'http://books.toscrape.com/catalogue/category/books_1/page-42.html',\n",
       " 'http://books.toscrape.com/catalogue/category/books_1/page-43.html',\n",
       " 'http://books.toscrape.com/catalogue/category/books_1/page-44.html',\n",
       " 'http://books.toscrape.com/catalogue/category/books_1/page-45.html',\n",
       " 'http://books.toscrape.com/catalogue/category/books_1/page-46.html',\n",
       " 'http://books.toscrape.com/catalogue/category/books_1/page-47.html',\n",
       " 'http://books.toscrape.com/catalogue/category/books_1/page-48.html',\n",
       " 'http://books.toscrape.com/catalogue/category/books_1/page-49.html',\n",
       " 'http://books.toscrape.com/catalogue/category/books_1/page-50.html']"
      ]
     },
     "execution_count": 345,
     "metadata": {},
     "output_type": "execute_result"
    }
   ],
   "source": [
    "all_urls"
   ]
  },
  {
   "cell_type": "code",
   "execution_count": 346,
   "metadata": {},
   "outputs": [],
   "source": [
    "book_details=[]\n",
    "for i in all_urls:\n",
    "    r=requests.get(i)\n",
    "    data=BeautifulSoup(r.text,'html.parser')\n",
    "    books=data.find_all(class_='product_pod')\n",
    "    for i in books:\n",
    "    \n",
    "        title=i.h3.a['title']\n",
    "        url='http://books.toscrape.com/catalogue/category'+i.h3.a['href']\n",
    "        price=i.find(class_='price_color').string[1:]\n",
    "    \n",
    "        response=requests.get(url)\n",
    "        d=BeautifulSoup(response.text,'html.parser')\n",
    "    \n",
    "        qty=d.find(class_='instock availability').contents[-1].strip()[10:12]\n",
    "    \n",
    "        book_details.append([title,url,price,qty])"
   ]
  },
  {
   "cell_type": "code",
   "execution_count": 347,
   "metadata": {},
   "outputs": [
    {
     "data": {
      "text/html": [
       "<div>\n",
       "<style scoped>\n",
       "    .dataframe tbody tr th:only-of-type {\n",
       "        vertical-align: middle;\n",
       "    }\n",
       "\n",
       "    .dataframe tbody tr th {\n",
       "        vertical-align: top;\n",
       "    }\n",
       "\n",
       "    .dataframe thead th {\n",
       "        text-align: right;\n",
       "    }\n",
       "</style>\n",
       "<table border=\"1\" class=\"dataframe\">\n",
       "  <thead>\n",
       "    <tr style=\"text-align: right;\">\n",
       "      <th></th>\n",
       "      <th>Title</th>\n",
       "      <th>URL</th>\n",
       "      <th>Price</th>\n",
       "      <th>Quantity</th>\n",
       "    </tr>\n",
       "  </thead>\n",
       "  <tbody>\n",
       "    <tr>\n",
       "      <th>0</th>\n",
       "      <td>A Light in the Attic</td>\n",
       "      <td>http://books.toscrape.com/catalogue/category.....</td>\n",
       "      <td>£51.77</td>\n",
       "      <td>22</td>\n",
       "    </tr>\n",
       "    <tr>\n",
       "      <th>1</th>\n",
       "      <td>Tipping the Velvet</td>\n",
       "      <td>http://books.toscrape.com/catalogue/category.....</td>\n",
       "      <td>£53.74</td>\n",
       "      <td>20</td>\n",
       "    </tr>\n",
       "    <tr>\n",
       "      <th>2</th>\n",
       "      <td>Soumission</td>\n",
       "      <td>http://books.toscrape.com/catalogue/category.....</td>\n",
       "      <td>£50.10</td>\n",
       "      <td>20</td>\n",
       "    </tr>\n",
       "    <tr>\n",
       "      <th>3</th>\n",
       "      <td>Sharp Objects</td>\n",
       "      <td>http://books.toscrape.com/catalogue/category.....</td>\n",
       "      <td>£47.82</td>\n",
       "      <td>20</td>\n",
       "    </tr>\n",
       "    <tr>\n",
       "      <th>4</th>\n",
       "      <td>Sapiens: A Brief History of Humankind</td>\n",
       "      <td>http://books.toscrape.com/catalogue/category.....</td>\n",
       "      <td>£54.23</td>\n",
       "      <td>20</td>\n",
       "    </tr>\n",
       "    <tr>\n",
       "      <th>5</th>\n",
       "      <td>The Requiem Red</td>\n",
       "      <td>http://books.toscrape.com/catalogue/category.....</td>\n",
       "      <td>£22.65</td>\n",
       "      <td>19</td>\n",
       "    </tr>\n",
       "    <tr>\n",
       "      <th>6</th>\n",
       "      <td>The Dirty Little Secrets of Getting Your Dream...</td>\n",
       "      <td>http://books.toscrape.com/catalogue/category.....</td>\n",
       "      <td>£33.34</td>\n",
       "      <td>19</td>\n",
       "    </tr>\n",
       "    <tr>\n",
       "      <th>7</th>\n",
       "      <td>The Coming Woman: A Novel Based on the Life of...</td>\n",
       "      <td>http://books.toscrape.com/catalogue/category.....</td>\n",
       "      <td>£17.93</td>\n",
       "      <td>19</td>\n",
       "    </tr>\n",
       "    <tr>\n",
       "      <th>8</th>\n",
       "      <td>The Boys in the Boat: Nine Americans and Their...</td>\n",
       "      <td>http://books.toscrape.com/catalogue/category.....</td>\n",
       "      <td>£22.60</td>\n",
       "      <td>19</td>\n",
       "    </tr>\n",
       "    <tr>\n",
       "      <th>9</th>\n",
       "      <td>The Black Maria</td>\n",
       "      <td>http://books.toscrape.com/catalogue/category.....</td>\n",
       "      <td>£52.15</td>\n",
       "      <td>19</td>\n",
       "    </tr>\n",
       "  </tbody>\n",
       "</table>\n",
       "</div>"
      ],
      "text/plain": [
       "                                               Title  \\\n",
       "0                               A Light in the Attic   \n",
       "1                                 Tipping the Velvet   \n",
       "2                                         Soumission   \n",
       "3                                      Sharp Objects   \n",
       "4              Sapiens: A Brief History of Humankind   \n",
       "5                                    The Requiem Red   \n",
       "6  The Dirty Little Secrets of Getting Your Dream...   \n",
       "7  The Coming Woman: A Novel Based on the Life of...   \n",
       "8  The Boys in the Boat: Nine Americans and Their...   \n",
       "9                                    The Black Maria   \n",
       "\n",
       "                                                 URL   Price Quantity  \n",
       "0  http://books.toscrape.com/catalogue/category.....  £51.77       22  \n",
       "1  http://books.toscrape.com/catalogue/category.....  £53.74       20  \n",
       "2  http://books.toscrape.com/catalogue/category.....  £50.10       20  \n",
       "3  http://books.toscrape.com/catalogue/category.....  £47.82       20  \n",
       "4  http://books.toscrape.com/catalogue/category.....  £54.23       20  \n",
       "5  http://books.toscrape.com/catalogue/category.....  £22.65       19  \n",
       "6  http://books.toscrape.com/catalogue/category.....  £33.34       19  \n",
       "7  http://books.toscrape.com/catalogue/category.....  £17.93       19  \n",
       "8  http://books.toscrape.com/catalogue/category.....  £22.60       19  \n",
       "9  http://books.toscrape.com/catalogue/category.....  £52.15       19  "
      ]
     },
     "execution_count": 347,
     "metadata": {},
     "output_type": "execute_result"
    }
   ],
   "source": [
    "import pandas as pd\n",
    "\n",
    "df=pd.DataFrame(book_details,columns=['Title','URL','Price','Quantity'])\n",
    "df.head(10)"
   ]
  },
  {
   "cell_type": "code",
   "execution_count": 348,
   "metadata": {},
   "outputs": [],
   "source": [
    "df.to_csv('Books.csv',index=False)"
   ]
  },
  {
   "cell_type": "markdown",
   "metadata": {},
   "source": [
    "### IMDB MOVIES Data Scraping"
   ]
  },
  {
   "cell_type": "code",
   "execution_count": 349,
   "metadata": {},
   "outputs": [],
   "source": [
    "import numpy as np"
   ]
  },
  {
   "cell_type": "code",
   "execution_count": 350,
   "metadata": {},
   "outputs": [],
   "source": [
    "r=requests.get('https://www.imdb.com/search/title/?release_date=2018&sort=num_votes,desc&page=1&ref_=adv_nxt')\n",
    "data=BeautifulSoup(r.text,'html.parser')\n",
    "#print(data.prettify())"
   ]
  },
  {
   "cell_type": "code",
   "execution_count": 351,
   "metadata": {},
   "outputs": [
    {
     "name": "stdout",
     "output_type": "stream",
     "text": [
      "Avengers: Infinity War - Action, Adventure, Sci-Fi\n",
      "Black Panther - Action, Adventure, Sci-Fi\n",
      "Deadpool 2 - Action, Adventure, Comedy\n"
     ]
    }
   ],
   "source": [
    "movies=data.find_all(class_='lister-item mode-advanced')\n",
    "\n",
    "count=0\n",
    "for i in movies:\n",
    "    if count==3:\n",
    "        break\n",
    "    print(i.h3.a.string,'-', i.p.find(class_='genre').string.strip())\n",
    "    count+=1"
   ]
  },
  {
   "cell_type": "code",
   "execution_count": 352,
   "metadata": {},
   "outputs": [
    {
     "name": "stdout",
     "output_type": "stream",
     "text": [
      "Inception 2010\n",
      "Game of Thrones 2011\n",
      "The Dark Knight Rises 2012\n",
      "The Wolf of Wall Street 2013\n",
      "Interstellar 2014\n",
      "Mad Max: Fury Road 2015\n",
      "Deadpool 2016\n",
      "Logan 2017\n",
      "Avengers: Infinity War 2018\n",
      "Joker 2019\n",
      "Tenet 2020\n"
     ]
    }
   ],
   "source": [
    "year=['2010','2011','2012','2013','2014', '2015', '2016', '2017', '2018', '2019', '2020']\n",
    "for i in year:\n",
    "    r=requests.get('https://www.imdb.com/search/title/?release_date='+i+'&sort=num_votes,desc&page=1&ref_=adv_nxt')\n",
    "    data=BeautifulSoup(r.text,'html.parser')\n",
    "    print(data.find(class_='lister-item-header').a.string, i)"
   ]
  },
  {
   "cell_type": "code",
   "execution_count": 353,
   "metadata": {},
   "outputs": [],
   "source": [
    "r=requests.get('https://www.imdb.com/search/title/?release_date=2018&sort=num_votes,desc&page=1&ref_=adv_nxt')\n",
    "data=BeautifulSoup(r.text,'html.parser')\n",
    "movies_details=data.find_all(class_='lister-item mode-advanced')\n",
    "movies_title=[]\n",
    "runtime=[]\n",
    "for i in movies_details:\n",
    "    movies_title.append(i.h3.a.string)\n",
    "    runtime.append(int(i.find(class_='runtime').string[:3]))"
   ]
  },
  {
   "cell_type": "code",
   "execution_count": 354,
   "metadata": {},
   "outputs": [
    {
     "name": "stdout",
     "output_type": "stream",
     "text": [
      "The Haunting of Hill House - 572 mins\n"
     ]
    }
   ],
   "source": [
    "print(movies_title[np.argmax(runtime)], '-', max(runtime), 'mins')"
   ]
  },
  {
   "cell_type": "markdown",
   "metadata": {},
   "source": [
    "### Scrape A Wikipedia Article"
   ]
  },
  {
   "cell_type": "code",
   "execution_count": 355,
   "metadata": {},
   "outputs": [],
   "source": [
    "r=requests.get('https://en.wikipedia.org/wiki/Artificial_intelligence')\n",
    "data=BeautifulSoup(r.text,'html.parser')\n",
    "li=data.find(class_='toclevel-1 tocsection-2').ul.find_all('a')"
   ]
  },
  {
   "cell_type": "code",
   "execution_count": 356,
   "metadata": {},
   "outputs": [
    {
     "name": "stdout",
     "output_type": "stream",
     "text": [
      "Goals of Artificial Intelligence :\n",
      "Reasoning, problem-solving\n",
      "Knowledge representation\n",
      "Planning\n",
      "Learning\n",
      "Natural language processing\n",
      "Perception\n",
      "Motion and manipulation\n",
      "Social intelligence\n",
      "General intelligence\n"
     ]
    }
   ],
   "source": [
    "print('Goals of Artificial Intelligence :')\n",
    "for i in li:\n",
    "    print(i.find(class_='toctext').string)"
   ]
  },
  {
   "cell_type": "code",
   "execution_count": 357,
   "metadata": {
    "scrolled": true
   },
   "outputs": [
    {
     "data": {
      "text/plain": [
       "{'//upload.wikimedia.org/wikipedia/en/thumb/1/1b/Semi-protection-shackle.svg/20px-Semi-protection-shackle.svg.png': 400.0,\n",
       " '//upload.wikimedia.org/wikipedia/commons/thumb/7/7a/Anatomy-1751201_1280.png/100px-Anatomy-1751201_1280.png': 8500.0,\n",
       " '//upload.wikimedia.org/wikipedia/commons/thumb/c/c8/Didrachm_Phaistos_obverse_CdM.jpg/220px-Didrachm_Phaistos_obverse_CdM.jpg': 48400.0,\n",
       " '//upload.wikimedia.org/wikipedia/commons/thumb/9/9e/GFO_taxonomy_tree.png/220px-GFO_taxonomy_tree.png': 45760.0,\n",
       " '//upload.wikimedia.org/wikipedia/commons/thumb/6/6e/ParseTree.svg/220px-ParseTree.svg.png': 48400.0,\n",
       " '//upload.wikimedia.org/wikipedia/commons/thumb/2/20/%C3%84%C3%A4retuvastuse_n%C3%A4ide.png/330px-%C3%84%C3%A4retuvastuse_n%C3%A4ide.png': 36300.0,\n",
       " '//upload.wikimedia.org/wikipedia/commons/thumb/b/b8/Kismet_robot_at_MIT_Museum.jpg/220px-Kismet_robot_at_MIT_Museum.jpg': 36300.0,\n",
       " '//upload.wikimedia.org/wikipedia/commons/thumb/e/ec/ParticleSwarmArrowsAnimation.gif/220px-ParticleSwarmArrowsAnimation.gif': 36300.0,\n",
       " '//upload.wikimedia.org/wikipedia/commons/6/69/EM_Clustering_of_Old_Faithful_data.gif': 111240.0,\n",
       " '//upload.wikimedia.org/wikipedia/commons/thumb/e/e4/Artificial_neural_network.svg/220px-Artificial_neural_network.svg.png': 43120.0,\n",
       " '//upload.wikimedia.org/wikipedia/commons/thumb/2/26/Deep_Learning.jpg/220px-Deep_Learning.jpg': 39600.0,\n",
       " '//upload.wikimedia.org/wikipedia/commons/thumb/1/13/Joseph_Ayerle_portrait_of_Ornella_Muti_%28detail%29%2C_calculated_by_Artificial_Intelligence_%28AI%29_technology.jpg/220px-Joseph_Ayerle_portrait_of_Ornella_Muti_%28detail%29%2C_calculated_by_Artificial_Intelligence_%28AI%29_technology.jpg': 56100.0,\n",
       " '//upload.wikimedia.org/wikipedia/commons/thumb/f/f3/AI_Patent_families_for_functional_application_categories_and_sub_categories.png/220px-AI_Patent_families_for_functional_application_categories_and_sub_categories.png': 32120.0,\n",
       " '//upload.wikimedia.org/wikipedia/commons/thumb/8/87/Capek_play.jpg/220px-Capek_play.jpg': 27060.0,\n",
       " '//upload.wikimedia.org/wikipedia/commons/thumb/6/6f/Octicons-terminal.svg/24px-Octicons-terminal.svg.png': 672.0,\n",
       " '//upload.wikimedia.org/wikipedia/en/thumb/0/06/Wiktionary-logo-v2.svg/27px-Wiktionary-logo-v2.svg.png': 729.0,\n",
       " '//upload.wikimedia.org/wikipedia/en/thumb/4/4a/Commons-logo.svg/20px-Commons-logo.svg.png': 540.0,\n",
       " '//upload.wikimedia.org/wikipedia/commons/thumb/f/fa/Wikiquote-logo.svg/23px-Wikiquote-logo.svg.png': 621.0,\n",
       " '//upload.wikimedia.org/wikipedia/commons/thumb/f/fa/Wikibooks-logo.svg/27px-Wikibooks-logo.svg.png': 729.0,\n",
       " '//upload.wikimedia.org/wikipedia/commons/thumb/0/0b/Wikiversity_logo_2017.svg/27px-Wikiversity_logo_2017.svg.png': 594.0,\n",
       " '//upload.wikimedia.org/wikipedia/commons/thumb/f/ff/Wikidata-logo.svg/27px-Wikidata-logo.svg.png': 405.0,\n",
       " '//upload.wikimedia.org/wikipedia/commons/thumb/c/cd/Socrates.png/18px-Socrates.png': 504.0,\n",
       " '//upload.wikimedia.org/wikipedia/commons/thumb/8/8b/Nuvola_apps_kalzium.svg/28px-Nuvola_apps_kalzium.svg.png': 784.0,\n",
       " '//upload.wikimedia.org/wikipedia/en/thumb/e/e2/Symbol_portal_class.svg/16px-Symbol_portal_class.svg.png': 256.0,\n",
       " '//upload.wikimedia.org/wikipedia/en/thumb/9/96/Symbol_category_class.svg/16px-Symbol_category_class.svg.png': 256.0,\n",
       " '//upload.wikimedia.org/wikipedia/commons/thumb/5/51/Computer_Retro.svg/50px-Computer_Retro.svg.png': 2500.0,\n",
       " '//upload.wikimedia.org/wikipedia/commons/thumb/4/41/Global_thinking.svg/10px-Global_thinking.svg.png': 160.0,\n",
       " '//upload.wikimedia.org/wikipedia/commons/thumb/3/37/People_icon.svg/16px-People_icon.svg.png': 256.0,\n",
       " '//upload.wikimedia.org/wikipedia/en/thumb/4/4a/Commons-logo.svg/12px-Commons-logo.svg.png': 192.0,\n",
       " '//upload.wikimedia.org/wikipedia/en/thumb/d/db/Symbol_list_class.svg/16px-Symbol_list_class.svg.png': 256.0,\n",
       " '//upload.wikimedia.org/wikipedia/commons/thumb/c/c5/Shadow_Hand_Bulb_large.jpg/100px-Shadow_Hand_Bulb_large.jpg': 15000.0,\n",
       " '//upload.wikimedia.org/wikipedia/en/thumb/8/8a/OOjs_UI_icon_edit-ltr-progressive.svg/10px-OOjs_UI_icon_edit-ltr-progressive.svg.png': 100.0,\n",
       " '//upload.wikimedia.org/wikipedia/commons/thumb/7/78/Definition_of_Free_Cultural_Works_logo_notext.svg/12px-Definition_of_Free_Cultural_Works_logo_notext.svg.png': 144.0,\n",
       " '//en.wikipedia.org/wiki/Special:CentralAutoLogin/start?type=1x1': 1.0,\n",
       " '/static/images/footer/wikimedia-button.png': 2728.0,\n",
       " '/static/images/footer/poweredby_mediawiki_88x31.png': 2728.0}"
      ]
     },
     "execution_count": 357,
     "metadata": {},
     "output_type": "execute_result"
    }
   ],
   "source": [
    "# Lets find all images\n",
    "images=data.find_all('img')\n",
    "\n",
    "# Store the source and area of each image.\n",
    "d={}\n",
    "details=[]\n",
    "for i in images:\n",
    "    details.append([i['src'],i['height'],i['width']])\n",
    "for i in details:\n",
    "    d[i[0]]=float(i[1])*float(i[2])\n",
    "d"
   ]
  },
  {
   "cell_type": "markdown",
   "metadata": {},
   "source": [
    "### Scraping Quotes"
   ]
  },
  {
   "cell_type": "code",
   "execution_count": 358,
   "metadata": {},
   "outputs": [],
   "source": [
    "all_urls=['http://quotes.toscrape.com/page/1/']\n",
    "current_page='http://quotes.toscrape.com/page/1/'\n",
    "base_url='http://quotes.toscrape.com/'\n",
    "r=requests.get('http://quotes.toscrape.com/page/1/')\n",
    "\n",
    "while r.status_code==200:\n",
    "    data=BeautifulSoup(r.text,'html.parser')\n",
    "    next_page=data.find(class_='next')\n",
    "    if next_page == None:\n",
    "        break\n",
    "    next_page_url=base_url+next_page.a['href']\n",
    "    all_urls.append(next_page_url)\n",
    "    \n",
    "    r=requests.get(next_page_url)"
   ]
  },
  {
   "cell_type": "code",
   "execution_count": 359,
   "metadata": {},
   "outputs": [
    {
     "data": {
      "text/plain": [
       "['http://quotes.toscrape.com/page/1/',\n",
       " 'http://quotes.toscrape.com//page/2/',\n",
       " 'http://quotes.toscrape.com//page/3/',\n",
       " 'http://quotes.toscrape.com//page/4/',\n",
       " 'http://quotes.toscrape.com//page/5/',\n",
       " 'http://quotes.toscrape.com//page/6/',\n",
       " 'http://quotes.toscrape.com//page/7/',\n",
       " 'http://quotes.toscrape.com//page/8/',\n",
       " 'http://quotes.toscrape.com//page/9/',\n",
       " 'http://quotes.toscrape.com//page/10/']"
      ]
     },
     "execution_count": 359,
     "metadata": {},
     "output_type": "execute_result"
    }
   ],
   "source": [
    "all_urls"
   ]
  },
  {
   "cell_type": "code",
   "execution_count": 360,
   "metadata": {},
   "outputs": [
    {
     "name": "stdout",
     "output_type": "stream",
     "text": [
      "“The person, be it gentleman or lady, who has not pleasure in a good novel, must be intolerably stupid.”\n",
      "“A day without sunshine is like, you know, night.”\n",
      "“Anyone who thinks sitting in church can make you a Christian must also think that sitting in a garage can make you a car.”\n",
      "“Beauty is in the eye of the beholder and it may be necessary from time to time to give a stupid or misinformed beholder a black eye.”\n",
      "“All you need is love. But a little chocolate now and then doesn't hurt.”\n",
      "“Remember, we're madly in love, so it's all right to kiss me anytime you feel like it.”\n",
      "“Some people never go crazy. What truly horrible lives they must lead.”\n",
      "“The trouble with having an open mind, of course, is that people will insist on coming along and trying to put things in it.”\n",
      "“Think left and think right and think low and think high. Oh, the thinks you can think up if only you try!”\n",
      "“The reason I talk to myself is because I’m the only one whose answers I accept.”\n",
      "“I am free of all prejudice. I hate everyone equally. ”\n",
      "“A lady's imagination is very rapid; it jumps from admiration to love, from love to matrimony in a moment.”\n"
     ]
    }
   ],
   "source": [
    "# Find all quotes which has a tag 'humor' in it.\n",
    "for i in all_urls:\n",
    "    r=requests.get(i)\n",
    "    data=BeautifulSoup(r.text,'html.parser')\n",
    "    quotes=data.find_all(class_='quote')\n",
    "    for i in quotes:\n",
    "        for j in i.find_all(class_='tag'):\n",
    "            if j.string=='humor':\n",
    "                print(i.span.string)"
   ]
  },
  {
   "cell_type": "code",
   "execution_count": 361,
   "metadata": {
    "scrolled": true
   },
   "outputs": [
    {
     "name": "stdout",
     "output_type": "stream",
     "text": [
      "Albert Einstein 10\n",
      "Alexandre Dumas fils 1\n",
      "Alfred Tennyson 1\n",
      "Allen Saunders 1\n",
      "André Gide 1\n",
      "Ayn Rand 1\n",
      "Bob Marley 3\n",
      "C.S. Lewis 5\n",
      "Charles Bukowski 2\n",
      "Charles M. Schulz 1\n",
      "Douglas Adams 1\n",
      "Dr. Seuss 6\n",
      "E.E. Cummings 1\n",
      "Eleanor Roosevelt 2\n",
      "Elie Wiesel 1\n",
      "Ernest Hemingway 2\n",
      "Friedrich Nietzsche 1\n",
      "Garrison Keillor 1\n",
      "George Bernard Shaw 1\n",
      "George Carlin 1\n",
      "George Eliot 1\n",
      "George R.R. Martin 2\n",
      "Harper Lee 1\n",
      "Haruki Murakami 1\n",
      "Helen Keller 1\n",
      "J.D. Salinger 1\n",
      "J.K. Rowling 9\n",
      "J.M. Barrie 1\n",
      "J.R.R. Tolkien 1\n",
      "James Baldwin 1\n",
      "Jane Austen 5\n",
      "Jim Henson 1\n",
      "Jimi Hendrix 1\n",
      "John Lennon 1\n",
      "Jorge Luis Borges 1\n",
      "Khaled Hosseini 1\n",
      "Madeleine L'Engle 1\n",
      "Marilyn Monroe 7\n",
      "Mark Twain 6\n",
      "Martin Luther King Jr. 1\n",
      "Mother Teresa 2\n",
      "Pablo Neruda 1\n",
      "Ralph Waldo Emerson 2\n",
      "Stephenie Meyer 1\n",
      "Steve Martin 1\n",
      "Suzanne Collins 2\n",
      "Terry Pratchett 1\n",
      "Thomas A. Edison 1\n",
      "W.C. Fields 1\n",
      "William Nicholson 1\n"
     ]
    }
   ],
   "source": [
    "# Find top 5 authors with no. of quotes\n",
    "import collections\n",
    "authors=[]\n",
    "for i in all_urls:\n",
    "    r=requests.get(i)\n",
    "    data=BeautifulSoup(r.text,'html.parser')\n",
    "    author=data.find_all(class_='author')\n",
    "    for i in author:\n",
    "        authors.append(i.string)\n",
    "d={}\n",
    "for i in authors:\n",
    "    d[i]=d.get(i,0)+1\n",
    "od=collections.OrderedDict(sorted(d.items()))\n",
    "for k in od:\n",
    "    print(k, od[k])"
   ]
  },
  {
   "cell_type": "code",
   "execution_count": 362,
   "metadata": {},
   "outputs": [
    {
     "name": "stdout",
     "output_type": "stream",
     "text": [
      "J.D. Salinger : January 01, 1919\n",
      "J.K. Rowling : July 31, 1965\n",
      "J.M. Barrie : May 09, 1860\n",
      "J.R.R. Tolkien : January 03, 1892\n",
      "James Baldwin : August 02, 1924\n",
      "Jane Austen : December 16, 1775\n",
      "Jim Henson : September 24, 1936\n",
      "Jimi Hendrix : November 27, 1942\n",
      "John Lennon : October 09, 1940\n",
      "Jorge Luis Borges : August 24, 1899\n"
     ]
    }
   ],
   "source": [
    "# Find authors birthdate.\n",
    "d={}\n",
    "for i in all_urls:\n",
    "    base_url='http://quotes.toscrape.com'\n",
    "    data=BeautifulSoup(requests.get(i).text,'html.parser')\n",
    "    quotes=data.find_all(class_='quote')\n",
    "    for i in quotes:\n",
    "        if i.small.string[0]=='j' or i.small.string[0]=='J':\n",
    "            author_url=base_url+i.a['href']\n",
    "            r=requests.get(author_url)\n",
    "            data=BeautifulSoup(r.text,'html.parser')\n",
    "            d[data.h3.string]=data.find(class_='author-born-date').string\n",
    "od=collections.OrderedDict(sorted(d.items()))\n",
    "for i in od:\n",
    "    print(i, ':', od[i])"
   ]
  },
  {
   "cell_type": "markdown",
   "metadata": {},
   "source": [
    "## Selenium "
   ]
  },
  {
   "cell_type": "code",
   "execution_count": 363,
   "metadata": {},
   "outputs": [],
   "source": [
    "from selenium import webdriver"
   ]
  },
  {
   "cell_type": "code",
   "execution_count": 364,
   "metadata": {},
   "outputs": [],
   "source": [
    "driver_path = \"chromedriver\"\n",
    "brave_path = \"C:/Program Files/BraveSoftware/Brave-Browser/Application/brave.exe\"\n",
    "\n",
    "option = webdriver.ChromeOptions()\n",
    "option.binary_location = brave_path\n",
    "# option.add_argument(\"--incognito\") OPTIONAL\n",
    "# option.add_argument(\"--headless\") OPTIONAL\n",
    "\n",
    "# Create new Instance of Chrome\n",
    "driver = webdriver.Chrome(executable_path=driver_path, options=option)"
   ]
  },
  {
   "cell_type": "code",
   "execution_count": 365,
   "metadata": {},
   "outputs": [],
   "source": [
    "driver.get('https://codingninjas.in/')"
   ]
  },
  {
   "cell_type": "code",
   "execution_count": 366,
   "metadata": {},
   "outputs": [
    {
     "data": {
      "text/plain": [
       "'Coding Ninjas – Learn coding online at India’s best coding institute'"
      ]
     },
     "execution_count": 366,
     "metadata": {},
     "output_type": "execute_result"
    }
   ],
   "source": [
    "driver.title"
   ]
  },
  {
   "cell_type": "code",
   "execution_count": 367,
   "metadata": {},
   "outputs": [],
   "source": [
    "driver.back()"
   ]
  },
  {
   "cell_type": "code",
   "execution_count": 368,
   "metadata": {},
   "outputs": [],
   "source": [
    "driver.forward()"
   ]
  },
  {
   "cell_type": "code",
   "execution_count": 369,
   "metadata": {},
   "outputs": [
    {
     "data": {
      "text/plain": [
       "True"
      ]
     },
     "execution_count": 369,
     "metadata": {},
     "output_type": "execute_result"
    }
   ],
   "source": [
    "driver.save_screenshot('automate.png')"
   ]
  },
  {
   "cell_type": "code",
   "execution_count": 370,
   "metadata": {},
   "outputs": [],
   "source": [
    "#driver.page_source"
   ]
  },
  {
   "cell_type": "code",
   "execution_count": 371,
   "metadata": {},
   "outputs": [],
   "source": [
    "driver.get('https://www.google.com/')"
   ]
  },
  {
   "cell_type": "code",
   "execution_count": 372,
   "metadata": {},
   "outputs": [],
   "source": [
    "# Click on Images\n",
    "btn=driver.find_element_by_partial_link_text('mage')\n",
    "btn.click()"
   ]
  },
  {
   "cell_type": "code",
   "execution_count": 373,
   "metadata": {},
   "outputs": [
    {
     "data": {
      "text/plain": [
       "'Google Images'"
      ]
     },
     "execution_count": 373,
     "metadata": {},
     "output_type": "execute_result"
    }
   ],
   "source": [
    "driver.title"
   ]
  },
  {
   "cell_type": "code",
   "execution_count": 374,
   "metadata": {},
   "outputs": [],
   "source": [
    "driver.back()"
   ]
  },
  {
   "cell_type": "code",
   "execution_count": 375,
   "metadata": {},
   "outputs": [
    {
     "data": {
      "text/plain": [
       "'https://www.google.com/'"
      ]
     },
     "execution_count": 375,
     "metadata": {},
     "output_type": "execute_result"
    }
   ],
   "source": [
    "driver.current_url"
   ]
  },
  {
   "cell_type": "code",
   "execution_count": 376,
   "metadata": {},
   "outputs": [],
   "source": [
    "driver.refresh()"
   ]
  },
  {
   "cell_type": "code",
   "execution_count": 377,
   "metadata": {},
   "outputs": [],
   "source": [
    "driver.maximize_window()"
   ]
  },
  {
   "cell_type": "markdown",
   "metadata": {},
   "source": [
    "###### ------------------------------------------------------------------------------------------------------------------------------------------------------------------------------------------------------------------"
   ]
  },
  {
   "cell_type": "code",
   "execution_count": 378,
   "metadata": {},
   "outputs": [],
   "source": [
    "driver.get('https://books.toscrape.com/')"
   ]
  },
  {
   "cell_type": "code",
   "execution_count": 379,
   "metadata": {},
   "outputs": [],
   "source": [
    "btn=driver.find_element_by_link_text('Music')\n",
    "btn.click()"
   ]
  },
  {
   "cell_type": "code",
   "execution_count": 380,
   "metadata": {},
   "outputs": [],
   "source": [
    "btn=driver.find_element_by_partial_link_text('Kill')\n",
    "btn.click()"
   ]
  },
  {
   "cell_type": "code",
   "execution_count": 381,
   "metadata": {},
   "outputs": [],
   "source": [
    "btn=driver.find_element_by_link_text('Books')\n",
    "btn.click()"
   ]
  },
  {
   "cell_type": "code",
   "execution_count": 382,
   "metadata": {},
   "outputs": [
    {
     "data": {
      "text/plain": [
       "[<selenium.webdriver.remote.webelement.WebElement (session=\"b89d86396675185a5f22523e1a6caa1e\", element=\"cf265b2f-dfdb-4b3d-8ae6-cb4ce191c68b\")>,\n",
       " <selenium.webdriver.remote.webelement.WebElement (session=\"b89d86396675185a5f22523e1a6caa1e\", element=\"2c18dc29-a6f9-43ac-b979-3f57fac0f9cb\")>,\n",
       " <selenium.webdriver.remote.webelement.WebElement (session=\"b89d86396675185a5f22523e1a6caa1e\", element=\"2afc016a-74ac-44fb-a525-3d62d957e1e5\")>,\n",
       " <selenium.webdriver.remote.webelement.WebElement (session=\"b89d86396675185a5f22523e1a6caa1e\", element=\"30e43816-03a5-4713-8cda-33f4b5f389a1\")>,\n",
       " <selenium.webdriver.remote.webelement.WebElement (session=\"b89d86396675185a5f22523e1a6caa1e\", element=\"557763d8-3c1d-4dc1-a3af-c0eaeca0d7fd\")>,\n",
       " <selenium.webdriver.remote.webelement.WebElement (session=\"b89d86396675185a5f22523e1a6caa1e\", element=\"385ab0a6-35a4-4c0f-a3d6-26cc20b53938\")>,\n",
       " <selenium.webdriver.remote.webelement.WebElement (session=\"b89d86396675185a5f22523e1a6caa1e\", element=\"7968b656-471a-481d-961a-ba4f2fda4ad2\")>,\n",
       " <selenium.webdriver.remote.webelement.WebElement (session=\"b89d86396675185a5f22523e1a6caa1e\", element=\"0f9ea70d-8c01-4950-827d-2ccac6aa747b\")>,\n",
       " <selenium.webdriver.remote.webelement.WebElement (session=\"b89d86396675185a5f22523e1a6caa1e\", element=\"032af6db-8c29-41da-a8c7-21a59cc11823\")>,\n",
       " <selenium.webdriver.remote.webelement.WebElement (session=\"b89d86396675185a5f22523e1a6caa1e\", element=\"3df322a1-2dfd-4836-b77e-722e6e81e065\")>,\n",
       " <selenium.webdriver.remote.webelement.WebElement (session=\"b89d86396675185a5f22523e1a6caa1e\", element=\"6e18707d-4317-4d60-b50b-9e8dcd740a46\")>,\n",
       " <selenium.webdriver.remote.webelement.WebElement (session=\"b89d86396675185a5f22523e1a6caa1e\", element=\"3f25b7c4-15eb-4ac8-b698-1806cfb7be53\")>,\n",
       " <selenium.webdriver.remote.webelement.WebElement (session=\"b89d86396675185a5f22523e1a6caa1e\", element=\"2a8f50d8-f77f-4743-ae77-5ac657d45740\")>,\n",
       " <selenium.webdriver.remote.webelement.WebElement (session=\"b89d86396675185a5f22523e1a6caa1e\", element=\"4775e296-84a8-4cfe-8ac2-910b9485c122\")>,\n",
       " <selenium.webdriver.remote.webelement.WebElement (session=\"b89d86396675185a5f22523e1a6caa1e\", element=\"8491d45a-45fb-462c-a1a7-6b6262195f49\")>,\n",
       " <selenium.webdriver.remote.webelement.WebElement (session=\"b89d86396675185a5f22523e1a6caa1e\", element=\"a044e199-5ea4-413a-8d85-cdb6a2b386a0\")>,\n",
       " <selenium.webdriver.remote.webelement.WebElement (session=\"b89d86396675185a5f22523e1a6caa1e\", element=\"08b75d4a-e308-4d1a-af70-217687f15591\")>,\n",
       " <selenium.webdriver.remote.webelement.WebElement (session=\"b89d86396675185a5f22523e1a6caa1e\", element=\"f92e3d79-17e8-42ef-b1c4-fa10aad72a9a\")>,\n",
       " <selenium.webdriver.remote.webelement.WebElement (session=\"b89d86396675185a5f22523e1a6caa1e\", element=\"06d83cc9-9697-449c-8446-562817c71d54\")>,\n",
       " <selenium.webdriver.remote.webelement.WebElement (session=\"b89d86396675185a5f22523e1a6caa1e\", element=\"19dad741-17c3-4730-afc2-d64ef28b3673\")>]"
      ]
     },
     "execution_count": 382,
     "metadata": {},
     "output_type": "execute_result"
    }
   ],
   "source": [
    "# Find all Images\n",
    "li=driver.find_elements_by_class_name('image_container')\n",
    "li"
   ]
  },
  {
   "cell_type": "code",
   "execution_count": 383,
   "metadata": {},
   "outputs": [],
   "source": [
    "driver.quit()"
   ]
  },
  {
   "cell_type": "markdown",
   "metadata": {},
   "source": [
    "#### Finding a location in Google Maps"
   ]
  },
  {
   "cell_type": "code",
   "execution_count": 395,
   "metadata": {},
   "outputs": [],
   "source": [
    "import time\n",
    "driver_path = \"chromedriver\"\n",
    "brave_path = \"C:/Program Files/BraveSoftware/Brave-Browser/Application/brave.exe\"\n",
    "\n",
    "option = webdriver.ChromeOptions()\n",
    "option.binary_location = brave_path\n",
    "# option.add_argument(\"--incognito\") OPTIONAL\n",
    "# option.add_argument(\"--headless\") OPTIONAL\n",
    "\n",
    "# Create new Instance of Chrome\n",
    "driver = webdriver.Chrome(executable_path=driver_path, options=option)"
   ]
  },
  {
   "cell_type": "code",
   "execution_count": 396,
   "metadata": {},
   "outputs": [],
   "source": [
    "driver.get('https://www.google.com/maps')"
   ]
  },
  {
   "cell_type": "code",
   "execution_count": 397,
   "metadata": {},
   "outputs": [],
   "source": [
    "text=driver.find_element_by_name('q')\n",
    "text.send_keys('Kendua Jharkhand')"
   ]
  },
  {
   "cell_type": "code",
   "execution_count": 398,
   "metadata": {},
   "outputs": [],
   "source": [
    "driver.find_element_by_id('searchbox-searchbutton').click()"
   ]
  },
  {
   "cell_type": "markdown",
   "metadata": {},
   "source": [
    "$Practice$"
   ]
  },
  {
   "cell_type": "markdown",
   "metadata": {},
   "source": [
    "#### Extracting Airtel plans of Delhi"
   ]
  },
  {
   "cell_type": "code",
   "execution_count": 399,
   "metadata": {},
   "outputs": [],
   "source": [
    "driver.get('https://paytm.com/recharge')"
   ]
  },
  {
   "cell_type": "code",
   "execution_count": 400,
   "metadata": {},
   "outputs": [],
   "source": [
    "operator=driver.find_element_by_xpath('//input[@type=\"text\"]')\n",
    "operator.click()\n",
    "operator.send_keys('Airtel')"
   ]
  },
  {
   "cell_type": "code",
   "execution_count": 401,
   "metadata": {},
   "outputs": [],
   "source": [
    "# find delhi ncr\n",
    "text = driver.find_element_by_xpath('//div[@class=\"dfy8\"]/ul/li[3]/div/div/Input')\n",
    "text.send_keys('delhi')\n",
    "\n",
    "time.sleep(2)\n",
    "\n",
    "# click it.\n",
    "button = driver.find_element_by_xpath('//div[@class=\"_3xI1\"]/ul/li')\n",
    "button.click()"
   ]
  },
  {
   "cell_type": "code",
   "execution_count": 402,
   "metadata": {},
   "outputs": [
    {
     "name": "stdout",
     "output_type": "stream",
     "text": [
      "Delhi NCR\n",
      "Recharge\n",
      "200 MB\n",
      "28 Days\n",
      "Enjoy talktime of Rs 99 valid for 28 days at 1p/sec local &amp; STD calls with 200 MB data.\n",
      "Rs. 99\n",
      "---\n",
      "Delhi NCR\n",
      "Recharge\n",
      "2 GB\n",
      "28 Days\n",
      "Enjoy Unlimited calls on any network 2GB Data and 300 SMS. Pack valid for 28 days.\n",
      "Rs. 99\n",
      "---\n",
      "Delhi NCR\n",
      "Recharge\n",
      "1 GB/Day\n",
      "24 Days\n",
      "Enjoy Unlimited calls on any network daily 1 GB &amp; 100 SMS.\n",
      "Rs. 99\n",
      "---\n",
      "Delhi NCR\n",
      "Recharge\n",
      "3 GB\n",
      "NA\n",
      "3 GB | Validity same as your existing bundle /smart pack\n",
      "Rs. 99\n",
      "---\n",
      "Delhi NCR\n",
      "Recharge\n",
      "1 GB\n",
      "24 Days\n",
      "Enjoy Unlimited calls on any network 1GB data &amp; 300 SMS.\n",
      "Rs. 99\n",
      "---\n",
      "Delhi NCR\n",
      "Recharge\n",
      "1.5 GB/Day\n",
      "28 Days\n",
      "Enjoy 1.5GB/day data unlimited Local &amp; STD calls on any network and 100 SMS/day.\n",
      "Rs. 99\n",
      "---\n",
      "Delhi NCR\n",
      "Recharge\n",
      "1.5 GB/Day\n",
      "56 Days\n",
      "Enjoy Unlimited calls on any network daily 1.5 GB data and 100 SMS. Pack valid for 56 days.\n",
      "Rs. 99\n",
      "---\n",
      "Delhi NCR\n",
      "Recharge\n",
      "1 GB/Day\n",
      "28 Days\n",
      "Enjoy Unlimited Local STD calls on any network daily 1 GB data and 100 SMS\n",
      "Rs. 99\n",
      "---\n"
     ]
    }
   ],
   "source": [
    "li=driver.find_elements_by_class_name('_1aEZ')\n",
    "\n",
    "for i in li:\n",
    "    count=0\n",
    "    a=i.find_elements_by_class_name('zUDk')\n",
    "    for j in a[:5]:\n",
    "        print(j.get_attribute('innerHTML'))\n",
    "    print(driver.find_element_by_xpath('//button[@class=\"_11kC  LLvJ _3vjB\"]').get_attribute('innerHTML'))\n",
    "    print('---')"
   ]
  },
  {
   "cell_type": "markdown",
   "metadata": {},
   "source": [
    "#### Extracting Iphone prices from Amazon"
   ]
  },
  {
   "cell_type": "code",
   "execution_count": 403,
   "metadata": {},
   "outputs": [],
   "source": [
    "from selenium.webdriver.common.keys import Keys\n",
    "\n",
    "driver_path = \"chromedriver\"\n",
    "brave_path = \"C:/Program Files/BraveSoftware/Brave-Browser/Application/brave.exe\"\n",
    "\n",
    "option = webdriver.ChromeOptions()\n",
    "option.binary_location = brave_path\n",
    "# option.add_argument(\"--incognito\") OPTIONAL\n",
    "# option.add_argument(\"--headless\") OPTIONAL\n",
    "\n",
    "# Create new Instance of Brave\n",
    "driver = webdriver.Chrome(executable_path=driver_path, options=option)"
   ]
  },
  {
   "cell_type": "code",
   "execution_count": 404,
   "metadata": {},
   "outputs": [
    {
     "name": "stdout",
     "output_type": "stream",
     "text": [
      "Apple iPhone 11 (64GB) - Green :  47,900\n",
      "Apple iPhone XR (128GB) - Coral :  42,999\n",
      "Apple iPhone 13 (128GB) - Midnight :  67,900\n",
      "Apple iPhone 13 (128GB) - Blue :  67,900\n",
      "Apple iPhone 11 (64GB) - Green :  47,900\n",
      "Apple iPhone 13 (128GB) - (Product) RED :  67,900\n",
      "Apple iPhone 13 (128GB) - Pink :  67,900\n",
      "Apple iPhone 13 (128GB) - Starlight :  67,900\n",
      "Apple iPhone SE (128 GB) - Midnight (3rd Generation) :  46,900\n",
      "Apple iPhone XR (128GB) - (Product) RED :  42,999\n",
      "Apple iPhone XR (128GB) - Coral :  42,999\n",
      "Apple iPhone 13 (256GB) - (Product) RED :  79,490\n",
      "Apple iPhone 13 Pro Max (256GB) - Gold :  1,39,900\n",
      "Apple iPhone 13 (256GB) - Blue :  79,490\n",
      "Apple iPhone 13 (256GB) - Midnight :  79,490\n",
      "Apple iPhone 12 (128GB) - Green :  61,900\n",
      "Apple iPhone 13 Pro Max (256GB) - Graphite :  1,36,490\n",
      "Apple iPhone 13 Mini (256GB) - Midnight :  73,999\n"
     ]
    }
   ],
   "source": [
    "driver.get(\"https://www.amazon.in/\")\n",
    "time.sleep(3)\n",
    "\n",
    "search = driver.find_element_by_xpath('//Input[@type=\"text\"]')\n",
    "search.send_keys('iPhone')\n",
    "search.send_keys(Keys.ENTER)\n",
    "time.sleep(3)\n",
    "\n",
    "names = []\n",
    "elements = driver.find_elements_by_xpath('//div[@class=\"a-section a-spacing-small a-spacing-top-small\"]/div/h2/a/span')\n",
    "for i in elements:\n",
    "    names.append(i.text)\n",
    "    \n",
    "prices = []\n",
    "elements = driver.find_elements_by_xpath('//span[@class=\"a-price\"]/span[2]/span[2]')\n",
    "for i in elements:\n",
    "    prices.append(i.text)\n",
    "\n",
    "for n, p in zip(names, prices):\n",
    "    print(n, ': ', p)"
   ]
  },
  {
   "cell_type": "markdown",
   "metadata": {},
   "source": [
    "#### Finding trains of a date"
   ]
  },
  {
   "cell_type": "code",
   "execution_count": 407,
   "metadata": {},
   "outputs": [],
   "source": [
    "driver.get('https://paytm.com/')\n",
    "time.sleep(3)\n",
    "\n",
    "# button for all payment services\n",
    "srv_button=driver.find_element_by_xpath('//div[@class=\"_3noxt\"]/div[7]')\n",
    "srv_button.click()\n",
    "time.sleep(3)\n",
    "\n",
    "# button for pnr check\n",
    "pnr_button=driver.find_element_by_xpath('//div[@class=\"bOSxL\"]/div[2]/div[6]')\n",
    "pnr_button.click()\n",
    "time.sleep(3)"
   ]
  },
  {
   "cell_type": "code",
   "execution_count": 408,
   "metadata": {},
   "outputs": [],
   "source": [
    "radio_btn = driver.find_element_by_xpath('//label[@for=\"bookingForm\"]')\n",
    "radio_btn.click()\n",
    "# Not finished"
   ]
  },
  {
   "cell_type": "markdown",
   "metadata": {},
   "source": [
    "#### Scrolling-Page"
   ]
  },
  {
   "cell_type": "code",
   "execution_count": 409,
   "metadata": {},
   "outputs": [],
   "source": [
    "# Scrolling of web pages to get data if html code changes while scrolling\n",
    "# It is done using java script commands with the help of execute_script in driver\n",
    "driver.get('https://twitter.com/StackOverHeards')"
   ]
  },
  {
   "cell_type": "code",
   "execution_count": 410,
   "metadata": {},
   "outputs": [
    {
     "data": {
      "text/plain": [
       "<selenium.webdriver.remote.webelement.WebElement (session=\"4b2064e08ff32c0c67f7ef1bfd5c21b8\", element=\"d5a4cb1f-305c-4b33-b56e-ff1c890056df\")>"
      ]
     },
     "execution_count": 410,
     "metadata": {},
     "output_type": "execute_result"
    }
   ],
   "source": [
    "driver.execute_script('return document.getElementById(\"react-root\");')"
   ]
  },
  {
   "cell_type": "code",
   "execution_count": 411,
   "metadata": {},
   "outputs": [
    {
     "data": {
      "text/plain": [
       "<selenium.webdriver.remote.webelement.WebElement (session=\"4b2064e08ff32c0c67f7ef1bfd5c21b8\", element=\"d5a4cb1f-305c-4b33-b56e-ff1c890056df\")>"
      ]
     },
     "execution_count": 411,
     "metadata": {},
     "output_type": "execute_result"
    }
   ],
   "source": [
    "driver.find_element_by_id('react-root')"
   ]
  },
  {
   "cell_type": "code",
   "execution_count": 412,
   "metadata": {},
   "outputs": [],
   "source": [
    "# scrolling (x,y) using scrollBy given pixels\n",
    "driver.execute_script('window.scrollBy(0,1000);')"
   ]
  },
  {
   "cell_type": "code",
   "execution_count": 413,
   "metadata": {},
   "outputs": [],
   "source": [
    "# scrolling (x,y) using scrollTo a given pixels\n",
    "driver.execute_script('window.scrollTo(0,500);')"
   ]
  },
  {
   "cell_type": "markdown",
   "metadata": {},
   "source": [
    "#### Infinite-Scrolling"
   ]
  },
  {
   "cell_type": "code",
   "execution_count": 426,
   "metadata": {},
   "outputs": [],
   "source": [
    "# scrolling till end\n",
    "driver.get('https://twitter.com/StackOverHeards')"
   ]
  },
  {
   "cell_type": "code",
   "execution_count": 428,
   "metadata": {},
   "outputs": [
    {
     "data": {
      "text/plain": [
       "9795"
      ]
     },
     "execution_count": 428,
     "metadata": {},
     "output_type": "execute_result"
    }
   ],
   "source": [
    "driver.execute_script('return document.body.scrollHeight;')"
   ]
  },
  {
   "cell_type": "code",
   "execution_count": 429,
   "metadata": {},
   "outputs": [
    {
     "name": "stdout",
     "output_type": "stream",
     "text": [
      "9795 15282\n",
      "15282 21697\n",
      "21697 21697\n"
     ]
    }
   ],
   "source": [
    "import time\n",
    "current_height=driver.execute_script('return document.body.scrollHeight;')\n",
    "while True:\n",
    "    driver.execute_script('window.scrollTo(0, arguments[0]);', current_height)\n",
    "    time.sleep(3)\n",
    "    new_height=driver.execute_script('return document.body.scrollHeight;')\n",
    "    print(current_height, new_height)\n",
    "    if current_height==new_height:\n",
    "        break\n",
    "    current_height=new_height"
   ]
  },
  {
   "cell_type": "markdown",
   "metadata": {},
   "source": [
    "#### Switching-tab-focus"
   ]
  },
  {
   "cell_type": "code",
   "execution_count": 417,
   "metadata": {},
   "outputs": [],
   "source": [
    "driver.get('https://www.codingninjas.com/')"
   ]
  },
  {
   "cell_type": "code",
   "execution_count": 418,
   "metadata": {},
   "outputs": [
    {
     "data": {
      "text/plain": [
       "'Coding Ninjas – Learn coding online at India’s best coding institute'"
      ]
     },
     "execution_count": 418,
     "metadata": {},
     "output_type": "execute_result"
    }
   ],
   "source": [
    "driver.title"
   ]
  },
  {
   "cell_type": "code",
   "execution_count": 419,
   "metadata": {},
   "outputs": [],
   "source": [
    "# new tab\n",
    "driver.execute_script('window.open(\"https://twitter.com/explore\")')"
   ]
  },
  {
   "cell_type": "code",
   "execution_count": 420,
   "metadata": {},
   "outputs": [
    {
     "data": {
      "text/plain": [
       "'Coding Ninjas – Learn coding online at India’s best coding institute'"
      ]
     },
     "execution_count": 420,
     "metadata": {},
     "output_type": "execute_result"
    }
   ],
   "source": [
    "# focus of driver is still on codingninjas\n",
    "driver.title"
   ]
  },
  {
   "cell_type": "code",
   "execution_count": 421,
   "metadata": {},
   "outputs": [
    {
     "data": {
      "text/plain": [
       "['CDwindow-05D4A3DB8D50FB7A33D9D050FF849ECA',\n",
       " 'CDwindow-85DF50ACEF0FB6E0D13583E741D50760']"
      ]
     },
     "execution_count": 421,
     "metadata": {},
     "output_type": "execute_result"
    }
   ],
   "source": [
    "windows=driver.window_handles\n",
    "windows"
   ]
  },
  {
   "cell_type": "code",
   "execution_count": 422,
   "metadata": {},
   "outputs": [
    {
     "data": {
      "text/plain": [
       "'CDwindow-05D4A3DB8D50FB7A33D9D050FF849ECA'"
      ]
     },
     "execution_count": 422,
     "metadata": {},
     "output_type": "execute_result"
    }
   ],
   "source": [
    "driver.current_window_handle"
   ]
  },
  {
   "cell_type": "code",
   "execution_count": 423,
   "metadata": {},
   "outputs": [],
   "source": [
    "# focusing on desired wintdow\n",
    "driver.switch_to.window(windows[1])"
   ]
  },
  {
   "cell_type": "code",
   "execution_count": 424,
   "metadata": {},
   "outputs": [
    {
     "data": {
      "text/plain": [
       "'CDwindow-85DF50ACEF0FB6E0D13583E741D50760'"
      ]
     },
     "execution_count": 424,
     "metadata": {},
     "output_type": "execute_result"
    }
   ],
   "source": [
    "driver.current_window_handle"
   ]
  },
  {
   "cell_type": "markdown",
   "metadata": {},
   "source": [
    "#### Dealing With Popups"
   ]
  },
  {
   "cell_type": "code",
   "execution_count": 425,
   "metadata": {},
   "outputs": [],
   "source": [
    "# a=driver.switch_to.alert is used to change focus from window to alert popup\n",
    "# a.accept() clicks on yes\n",
    "# a.dismiss() clicks on no\n",
    "# a.text returns text of popup\n",
    "# a.send_keys() send values to popup"
   ]
  }
 ],
 "metadata": {
  "kernelspec": {
   "display_name": "Python 3",
   "language": "python",
   "name": "python3"
  },
  "language_info": {
   "codemirror_mode": {
    "name": "ipython",
    "version": 3
   },
   "file_extension": ".py",
   "mimetype": "text/x-python",
   "name": "python",
   "nbconvert_exporter": "python",
   "pygments_lexer": "ipython3",
   "version": "3.8.3"
  }
 },
 "nbformat": 4,
 "nbformat_minor": 4
}
